{
 "cells": [
  {
   "cell_type": "markdown",
   "metadata": {},
   "source": [
    "## Zaključno poročilo"
   ]
  },
  {
   "cell_type": "markdown",
   "metadata": {},
   "source": [
    "---"
   ]
  },
  {
   "cell_type": "markdown",
   "metadata": {},
   "source": [
    "### Predstavitev množice podatkov"
   ]
  },
  {
   "cell_type": "markdown",
   "metadata": {},
   "source": [
    "Naša množica podatkov zajema meritve porabe električne energije po namembnosti in električnem viru v Sloveniji. Podatke smo prenesli s spletne strani https://podatki.gov.si/."
   ]
  },
  {
   "cell_type": "markdown",
   "metadata": {},
   "source": [
    "Meritve so zajete od leta 2000 do 2020. Za vsako leto smo primerjali energetske vire (premog, lesna goriva, električna energija, zemeljski plin, itd.) in namene v slovenskih gospodinjstvih za katere se uporabljajo (ogrevanje prostorov, kuhanje, razsvetljava, itd.). Merska enota za energijo je teradžul (TJ). Iz tega lahko na primer pridemo do ugotovitve, kako se skozi leta spreminja poraba energije pridobljene iz premoga."
   ]
  },
  {
   "cell_type": "markdown",
   "metadata": {},
   "source": [
    "Podatkovno množico smo iz PX formata pretvorili v dve CSV datoteki. V spodnji tabeli so podrobno predstavljeni atributi iz množice podatkov."
   ]
  },
  {
   "cell_type": "markdown",
   "metadata": {},
   "source": [
    "| Atribut         | Opis        | Podatkovni tip |\n",
    "| -----------     | ----------- | -------------- |\n",
    "|   Leto          | Meritve so za vsako leto od 2000 do 2020            |       string         |\n",
    "| Energetski vir  | Ekstra lahko kurilno olje, zemeljski plin, lesna goriva, utekočinjeni naftni plin, elektrika, premog, daljinsko ogrevanje, sončna energija, toplota okolice          |    string            |\n",
    "|  Namen uporabe  |  Ogrevanje prostorov, ogrevanje vode, kuhanje, osvetljava, hladilniki, zmrzovalniki, pralni in sušilni stroji, pomivalni stroji, osebni računalniki, televizije in ostali porabniki          |    string         |\n",
    "| Poraba energije |   Merska enota električne energije je v TJ (Terajoules)                    | float |"
   ]
  },
  {
   "cell_type": "markdown",
   "metadata": {},
   "source": [
    "### Analiza podatkov in ugotovitve"
   ]
  },
  {
   "cell_type": "markdown",
   "metadata": {},
   "source": [
    "Najprej smo ugotovili kateri porabniki v slovenskih gospodinjstvih porabijo največ energije. Izkazalo se je, da gre daleč največ energije za ogrevanje gospodinjskih prostorov. Sledi ogrevanje vode in ostali porabniki, ki imajo manjši delež porabe.\n",
    "\n",
    "![Vizualizacija1](Projekt/graph1.png)\n",
    "\n",
    "Od leta 2000 do 2020 smo preverili, kako se spreminja poraba energije za dva največja porabnika (ogrevanje prostorov in vode). Poraba energije za ogrevanje vode skozi 20 let ostane konstantna. Poraba za ogrevanje prostorov pa z leti pada. Razlog za padec porabe je lahko boljša izolacija v novejših gradnjah gospodinstev.\n",
    "\n",
    "![Vizualizacija2](Projekt/graph2.png)\n",
    "\n"
   ]
  },
  {
   "cell_type": "markdown",
   "metadata": {},
   "source": [
    "### Zaključne misli"
   ]
  },
  {
   "cell_type": "markdown",
   "metadata": {},
   "source": []
  }
 ],
 "metadata": {
  "kernelspec": {
   "display_name": "Python 3",
   "language": "python",
   "name": "python3"
  },
  "language_info": {
   "codemirror_mode": {
    "name": "ipython",
    "version": 3
   },
   "file_extension": ".py",
   "mimetype": "text/x-python",
   "name": "python",
   "nbconvert_exporter": "python",
   "pygments_lexer": "ipython3",
   "version": "3.6.9"
  }
 },
 "nbformat": 4,
 "nbformat_minor": 4
}
